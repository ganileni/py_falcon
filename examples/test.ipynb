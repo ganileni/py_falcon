{
 "cells": [
  {
   "cell_type": "markdown",
   "metadata": {},
   "source": [
    "# An example of how the wrapper works"
   ]
  },
  {
   "cell_type": "code",
   "execution_count": 1,
   "metadata": {},
   "outputs": [],
   "source": [
    "# let's add the module path to our PYTHONPATH\n",
    "import sys\n",
    "sys.path[0] = '../'"
   ]
  },
  {
   "cell_type": "code",
   "execution_count": 2,
   "metadata": {},
   "outputs": [
    {
     "name": "stdout",
     "output_type": "stream",
     "text": [
      "{'binary': 1, 'sorting': 0, 'MEASURE': ['NODF'], 'nulls': matlab.double([]), 'ensNum': matlab.double([]), 'plot': 0, 'Matrix': {'Matrix': matlab.logical([[True,False,False,False,True],[False,True,False,True,True],[False,False,True,False,True],[True,True,False,False,False],[True,False,False,False,True]]), 'fill': 11.0, 'connectance': 0.44}, 'NestedConfig': {'DegreeMatrix': matlab.logical([[True,False,True,False,True],[True,True,False,False,False],[True,False,False,True,False],[False,True,True,False,False],[True,True,False,False,False]]), 'Degreeindex_rows': matlab.double([[2.0,1.0,3.0,4.0,5.0]]), 'Degreeindex_cols': matlab.double([[5.0,1.0,2.0,3.0,4.0]])}, 'Bin_t1': {'EnsembleSize': 1000.0, 'SignificanceTable': matlab.double([[0.0,0.0,1.0,0.0,0.0]]), 'measures': [{'MEASURE': 'NODF', 'NANcount': 0.0, 'Measure': 15.0, 'pvalue': 0.644, 'pvalueCorrected': 0.0, 'Mean': 18.185833333333346, 'StandardDeviation': 9.715093589879967, 'sampleZscore': -0.3279261598315398, 'Median': 17.5, 'minimum': 0.0, 'maximum': 53.33333333333333, 'NormalisedTemperature': 0.8248178527241895, 'NestednessUpOrDown': 'Up'}]}, 'Bin_t2': {'EnsembleSize': 1000.0, 'SignificanceTable': matlab.double([[0.0,0.0,1.0,0.0,0.0]]), 'measures': [{'MEASURE': 'NODF', 'NANcount': 0.0, 'Measure': 15.0, 'pvalue': 0.911, 'pvalueCorrected': 0.0, 'Mean': 17.0975, 'StandardDeviation': 2.8530481302693786, 'sampleZscore': -0.7351786244846695, 'Median': 17.5, 'minimum': 7.5, 'maximum': 22.5, 'NormalisedTemperature': 0.877321245796169, 'NestednessUpOrDown': 'Up'}]}, 'Bin_t3': {'EnsembleSize': 1000.0, 'SignificanceTable': matlab.double([[0.0,0.0,1.0,0.0,0.0]]), 'measures': [{'MEASURE': 'NODF', 'NANcount': 0.0, 'Measure': 15.0, 'pvalue': 0.683, 'pvalueCorrected': 0.0, 'Mean': 19.557500000000008, 'StandardDeviation': 10.363722274273217, 'sampleZscore': -0.4397551265256782, 'Median': 17.916666666666664, 'minimum': 0.0, 'maximum': 63.33333333333333, 'NormalisedTemperature': 0.7669691934040647, 'NestednessUpOrDown': 'Up'}]}, 'Bin_t4': {'EnsembleSize': 1000.0, 'SignificanceTable': matlab.double([[0.0,0.0,1.0,0.0,0.0]]), 'measures': [{'MEASURE': 'NODF', 'NANcount': 0.0, 'Measure': 15.0, 'pvalue': 0.774, 'pvalueCorrected': 0.0, 'Mean': 24.693830128205132, 'StandardDeviation': 13.31029362735014, 'sampleZscore': -0.7282957385918326, 'Median': 23.333333333333332, 'minimum': 0.0, 'maximum': 91.66666666666667, 'NormalisedTemperature': 0.6074391830721755, 'NestednessUpOrDown': 'Up'}]}, 'Bin_t5': {'EnsembleSize': 1000.0, 'SignificanceTable': matlab.double([[0.0,0.0,1.0,0.0,0.0]]), 'measures': [{'MEASURE': 'NODF', 'NANcount': 0.0, 'Measure': 15.0, 'pvalue': 0.737, 'pvalueCorrected': 0.0, 'Mean': 22.55299984737483, 'StandardDeviation': 12.645669729700424, 'sampleZscore': -0.5972795438137511, 'Median': 21.875, 'minimum': 0.0, 'maximum': 77.77777777777777, 'NormalisedTemperature': 0.6650999911989979, 'NestednessUpOrDown': 'Up'}]}, 'SignificanceTableSummary': matlab.double([[0.0,0.0,5.0,0.0,0.0]])}\n",
      "\n",
      "\n",
      " *** auto shutdown engine example *** \n",
      "\n",
      "\n",
      "{'binary': 1, 'sorting': 0, 'MEASURE': ['NODF'], 'nulls': matlab.double([]), 'ensNum': matlab.double([]), 'plot': 0, 'Matrix': {'Matrix': matlab.logical([[True,False,False,False,True],[False,True,False,True,True],[False,False,True,False,True],[True,True,False,False,False],[True,False,False,False,True]]), 'fill': 11.0, 'connectance': 0.44}, 'NestedConfig': {'DegreeMatrix': matlab.logical([[True,False,True,False,True],[True,True,False,False,False],[True,False,False,True,False],[False,True,True,False,False],[True,True,False,False,False]]), 'Degreeindex_rows': matlab.double([[2.0,1.0,3.0,4.0,5.0]]), 'Degreeindex_cols': matlab.double([[5.0,1.0,2.0,3.0,4.0]])}, 'Bin_t1': {'EnsembleSize': 1000.0, 'SignificanceTable': matlab.double([[0.0,0.0,1.0,0.0,0.0]]), 'measures': [{'MEASURE': 'NODF', 'NANcount': 0.0, 'Measure': 15.0, 'pvalue': 0.644, 'pvalueCorrected': 0.0, 'Mean': 18.185833333333346, 'StandardDeviation': 9.715093589879967, 'sampleZscore': -0.3279261598315398, 'Median': 17.5, 'minimum': 0.0, 'maximum': 53.33333333333333, 'NormalisedTemperature': 0.8248178527241895, 'NestednessUpOrDown': 'Up'}]}, 'Bin_t2': {'EnsembleSize': 1000.0, 'SignificanceTable': matlab.double([[0.0,0.0,1.0,0.0,0.0]]), 'measures': [{'MEASURE': 'NODF', 'NANcount': 0.0, 'Measure': 15.0, 'pvalue': 0.911, 'pvalueCorrected': 0.0, 'Mean': 17.0975, 'StandardDeviation': 2.8530481302693786, 'sampleZscore': -0.7351786244846695, 'Median': 17.5, 'minimum': 7.5, 'maximum': 22.5, 'NormalisedTemperature': 0.877321245796169, 'NestednessUpOrDown': 'Up'}]}, 'Bin_t3': {'EnsembleSize': 1000.0, 'SignificanceTable': matlab.double([[0.0,0.0,1.0,0.0,0.0]]), 'measures': [{'MEASURE': 'NODF', 'NANcount': 0.0, 'Measure': 15.0, 'pvalue': 0.683, 'pvalueCorrected': 0.0, 'Mean': 19.557500000000008, 'StandardDeviation': 10.363722274273217, 'sampleZscore': -0.4397551265256782, 'Median': 17.916666666666664, 'minimum': 0.0, 'maximum': 63.33333333333333, 'NormalisedTemperature': 0.7669691934040647, 'NestednessUpOrDown': 'Up'}]}, 'Bin_t4': {'EnsembleSize': 1000.0, 'SignificanceTable': matlab.double([[0.0,0.0,1.0,0.0,0.0]]), 'measures': [{'MEASURE': 'NODF', 'NANcount': 0.0, 'Measure': 15.0, 'pvalue': 0.774, 'pvalueCorrected': 0.0, 'Mean': 24.693830128205132, 'StandardDeviation': 13.31029362735014, 'sampleZscore': -0.7282957385918326, 'Median': 23.333333333333332, 'minimum': 0.0, 'maximum': 91.66666666666667, 'NormalisedTemperature': 0.6074391830721755, 'NestednessUpOrDown': 'Up'}]}, 'Bin_t5': {'EnsembleSize': 1000.0, 'SignificanceTable': matlab.double([[0.0,0.0,1.0,0.0,0.0]]), 'measures': [{'MEASURE': 'NODF', 'NANcount': 0.0, 'Measure': 15.0, 'pvalue': 0.737, 'pvalueCorrected': 0.0, 'Mean': 22.55299984737483, 'StandardDeviation': 12.645669729700424, 'sampleZscore': -0.5972795438137511, 'Median': 21.875, 'minimum': 0.0, 'maximum': 77.77777777777777, 'NormalisedTemperature': 0.6650999911989979, 'NestednessUpOrDown': 'Up'}]}, 'SignificanceTableSummary': matlab.double([[0.0,0.0,5.0,0.0,0.0]])}\n"
     ]
    }
   ],
   "source": [
    "import numpy as np\n",
    "test_matrix = np.loadtxt('../falcon/test.csv',delimiter=',')\n",
    "\n",
    "# literally two lines, MATLAB starts automatically\n",
    "import falcon\n",
    "result = falcon.nested_test(test_matrix)\n",
    "\n",
    "print(result)\n",
    "\n",
    "# recommended: quit the MATLAB engine when you're done\n",
    "falcon.quit_matlab()\n",
    "\n",
    "print('\\n\\n *** auto shutdown engine example *** \\n\\n')\n",
    "\n",
    "# if you don't want to have to remember to quit the MATLAB engine,\n",
    "# a context manager is available that shuts it down on exit:\n",
    "\n",
    "# `as eng` not required, use if you need direct access to MATLAB engine\n",
    "with falcon.AutoEngineShutdown() as eng:\n",
    "     result = falcon.nested_test(test_matrix)\n",
    "\n",
    "print(result)"
   ]
  }
 ],
 "metadata": {
  "kernelspec": {
   "display_name": "Python 3",
   "language": "python",
   "name": "python3"
  },
  "language_info": {
   "codemirror_mode": {
    "name": "ipython",
    "version": 3
   },
   "file_extension": ".py",
   "mimetype": "text/x-python",
   "name": "python",
   "nbconvert_exporter": "python",
   "pygments_lexer": "ipython3",
   "version": "3.6.6"
  }
 },
 "nbformat": 4,
 "nbformat_minor": 2
}
