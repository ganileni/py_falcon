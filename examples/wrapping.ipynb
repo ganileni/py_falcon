{
 "cells": [
  {
   "cell_type": "markdown",
   "metadata": {},
   "source": [
    "# Wrapping a MATLAB package in Python.\n",
    "\n",
    "For work, I had to use some code that is only available in MATLAB. Most of my workflow, though, is in Python, and I didn't want to mix two languages. As any normal person would do, I started looking around for some tutorial on how to wrap MATLAB cleanly in Python. I found none that were satisfying, so I figured it out by myself using MATLAB's documentation.\n",
    "\n",
    "It took me a bit, because my MATLAB is rusty, and the docs aren't exactly great. So I thought I'd do something good for a change, and write a tutorial on how to wrap MATLAB code with Python. I actually did something better, because when you're done with this, you should have a recipe to easily wrap any MATLAB code in a few minutes. Mind that the tutorial presupposes knowledge of the import system, OOP, operator overloading and decorators.\n",
    "\n",
    "The first MATLAB package I ever wrapped is [FALCON](https://github.com/sjbeckett/FALCON), written by [Stephen Beckett](http://sjbeckett.github.io/), so I'll use it as an example to guide you through its wrapping. The code is contained in the [../falcon](https://github.com/ganileni/py_falcon/tree/master/falcon) directory.\n",
    "\n",
    "First of all, you need to have a working copy of MATLAB installed on your machine. When you do, install the [MATLAB API for Python](https://www.mathworks.com/help/matlab/matlab-engine-for-python.html). Here are the [installation instructions](https://www.mathworks.com/help/matlab/matlab_external/install-the-matlab-engine-for-python.html) but, in short, you can install it with this:\n",
    "```\n",
    "$ cd $MATLABROOT/extern/engines/python\n",
    "$ python setup.py install\n",
    "```\n",
    "where `$MATLABROOT` is your MATLAB installation directory (e.g. for my sistem it's `~/.MathWorks/MATLAB/R2018a`). This will put a new package in your Python installation called `matlab`. Of course I advise to do this in a virtualenv or conda environment, and not in your system Python installation.\n",
    "\n",
    "After you're done with this, you can start a MATLAB engine from Python like this:"
   ]
  },
  {
   "cell_type": "code",
   "execution_count": 1,
   "metadata": {},
   "outputs": [],
   "source": [
    "import matlab\n",
    "from matlab import engine\n",
    "# start the engine\n",
    "eng=engine.start_matlab()"
   ]
  },
  {
   "cell_type": "markdown",
   "metadata": {},
   "source": [
    "and you can use MATLAB's built-ins directly. For example, to create a MATLAB array from a list:"
   ]
  },
  {
   "cell_type": "code",
   "execution_count": 2,
   "metadata": {},
   "outputs": [
    {
     "data": {
      "text/plain": [
       "matlab.double([[1.0,2.0]])"
      ]
     },
     "execution_count": 2,
     "metadata": {},
     "output_type": "execute_result"
    }
   ],
   "source": [
    "arr=[1,2]\n",
    "matlab_arr=matlab.double(arr)\n",
    "matlab_arr"
   ]
  },
  {
   "cell_type": "markdown",
   "metadata": {},
   "source": [
    "Note that you cannot convert a numpy array directly to matlab:"
   ]
  },
  {
   "cell_type": "code",
   "execution_count": 3,
   "metadata": {},
   "outputs": [
    {
     "ename": "ValueError",
     "evalue": "initializer must be a rectangular nested sequence",
     "output_type": "error",
     "traceback": [
      "\u001b[0;31m---------------------------------------------------------------------------\u001b[0m",
      "\u001b[0;31mValueError\u001b[0m                                Traceback (most recent call last)",
      "(...)",
      "\u001b[0;31mValueError\u001b[0m: initializer must be a rectangular nested sequence"
     ]
    }
   ],
   "source": [
    "# this code will raise ValueError\n",
    "import numpy as np\n",
    "arr=np.array([1,2])\n",
    "matl_arr=matlab.double(arr)"
   ]
  },
  {
   "cell_type": "code",
   "execution_count": 4,
   "metadata": {},
   "outputs": [],
   "source": [
    "# convert to list instead before feeding it\n",
    "import numpy as np\n",
    "arr=np.array([1,2])\n",
    "matl_arr=matlab.double(arr.tolist())"
   ]
  },
  {
   "cell_type": "markdown",
   "metadata": {},
   "source": [
    "You can pass the array to matlab functions and it will work correctly:"
   ]
  },
  {
   "cell_type": "code",
   "execution_count": 5,
   "metadata": {},
   "outputs": [
    {
     "data": {
      "text/plain": [
       "matlab.double([[1.0,1.4142135623730951]])"
      ]
     },
     "execution_count": 5,
     "metadata": {},
     "output_type": "execute_result"
    }
   ],
   "source": [
    "eng.sqrt(matl_arr)"
   ]
  },
  {
   "cell_type": "markdown",
   "metadata": {},
   "source": [
    "any attribute required from the engine will be passed to MATLAB directly, so e.g.\n",
    "```\n",
    "Python> eng.sqrt(x)\n",
    "```\n",
    "\n",
    "which is equivalent in Python to:\n",
    "```\n",
    "Python> getattr(eng,'sqrt').__call__(x)\n",
    "```\n",
    "\n",
    "will behave like this MATLAB code:\n",
    "```\n",
    "MATLAB> sqrt(x)\n",
    "```\n",
    "you can also pass strings to be executed by the engine with\n",
    "```\n",
    "Python> eng.eval('code')\n",
    "```\n",
    "which is equivalent to\n",
    "```\n",
    "MATLAB> code\n",
    "```\n",
    "When you're done you can stop the engine with this:"
   ]
  },
  {
   "cell_type": "code",
   "execution_count": 6,
   "metadata": {},
   "outputs": [],
   "source": [
    "eng.quit()"
   ]
  },
  {
   "cell_type": "markdown",
   "metadata": {},
   "source": [
    "In order to use custom MATLAB code, and not just the built-ins, you just call it from the engine like you would in MATLAB. So if we are using e.g. FALCON, we know that its main routine is in a file called `PERFORM_NESTED_TEST.m`. MATLAB forces users to write one function per file, and the function must have the same name as the `.m` file that contains it. So, in MATLAB, we would do:\n",
    "```\n",
    "MATLAB> PERFORM_NESTED_TEST(args)\n",
    "```\n",
    "so in Python it becomes:\n",
    "```\n",
    "Python> eng.PERFORM_NESTED_TEST(args)\n",
    "```\n",
    "Now, this code would fail, giving us:\n",
    "```\n",
    "MatlabExecutionError: Undefined function 'PERFORM_NESTED_TEST' for input arguments of type 'double'.\n",
    "```\n",
    "let's show it:"
   ]
  },
  {
   "cell_type": "code",
   "execution_count": 7,
   "metadata": {},
   "outputs": [],
   "source": [
    "# load a test matrix from falcon's source code dir\n",
    "FALCON_DIR='../falcon/'\n",
    "test_matrix=np.loadtxt(FALCON_DIR+'test.csv',delimiter=',')\n",
    "# convert to matlab double array\n",
    "test_matlab_matrix=matlab.double(test_matrix.tolist())"
   ]
  },
  {
   "cell_type": "code",
   "execution_count": 8,
   "metadata": {},
   "outputs": [
    {
     "ename": "MatlabExecutionError",
     "evalue": "Undefined function 'PERFORM_NESTED_TEST' for input arguments of type 'double'.\n",
     "output_type": "error",
     "traceback": [
      "\u001b[0;31m---------------------------------------------------------------------------\u001b[0m",
      "\u001b[0;31mMatlabExecutionError\u001b[0m                      Traceback (most recent call last)",
      "(...)",
      "\u001b[0;31mMatlabExecutionError\u001b[0m: Undefined function 'PERFORM_NESTED_TEST' for input arguments of type 'double'.\n"
     ]
    }
   ],
   "source": [
    "# this should raise MatlabExecutionError\n",
    "eng=engine.start_matlab()\n",
    "eng.PERFORM_NESTED_TEST(test_matlab_matrix)"
   ]
  },
  {
   "cell_type": "code",
   "execution_count": 9,
   "metadata": {},
   "outputs": [],
   "source": [
    "eng.quit()"
   ]
  },
  {
   "cell_type": "markdown",
   "metadata": {},
   "source": [
    "The code fails because the \\*.m files containing the MATLAB code must be in Python's working directory when the engine is started, in order to be recognized\\*. In order to make the code work, we have to change the working directory:\n",
    "\n",
    "\\* *Note: this is because when the engine is started Python adds its current working directory to the engine's search path. We could work around this by changing the working directory with MATLAB commands, but that is even more hacky than this approach, because it would involve OS-based path management.*."
   ]
  },
  {
   "cell_type": "code",
   "execution_count": 10,
   "metadata": {},
   "outputs": [],
   "source": [
    "import os\n",
    "\n",
    "CURRENT_DIR=os.getcwd()\n",
    "os.chdir(FALCON_DIR)\n",
    "\n",
    "eng=engine.start_matlab()"
   ]
  },
  {
   "cell_type": "code",
   "execution_count": 11,
   "metadata": {},
   "outputs": [
    {
     "name": "stdout",
     "output_type": "stream",
     "text": [
      "{'binary': False, 'sorting': False, 'MEASURE': ['NODF'], 'nulls': matlab.double([]), 'ensNum': matlab.double([]), 'plot': 0, 'Matrix': {'Matrix': matlab.double([[3.0,0.0,0.0,0.0,3.0],[0.0,2.0,0.0,7.0,1.0],[0.0,0.0,1.0,0.0,2.0],[2.0,6.0,0.0,0.0,0.0],[5.0,0.0,0.0,0.0,3.0]]), 'fill': 11.0, 'connectance': 0.44}, 'NestedConfig': {'DegreeMatrix': matlab.double([[1.0,0.0,2.0,0.0,7.0],[3.0,5.0,0.0,0.0,0.0],[3.0,3.0,0.0,0.0,0.0],[2.0,0.0,0.0,1.0,0.0],[0.0,2.0,6.0,0.0,0.0]]), 'Degreeindex_rows': matlab.double([[2.0,5.0,1.0,3.0,4.0]]), 'Degreeindex_cols': matlab.double([[5.0,1.0,2.0,3.0,4.0]])}, 'Qua_t1': {'EnsembleSize': 1000.0, 'SignificanceTable': matlab.double([[0.0,0.0,0.0,1.0,1.0]]), 'measures': [{'MEASURE': 'NODF', 'NANcount': 0.0, 'Measure': 15.0, 'pvalue': 1.0, 'pvalueCorrected': 0.0, 'Mean': 15.0, 'StandardDeviation': 0.0, 'sampleZscore': nan, 'Median': 15.0, 'minimum': 15.0, 'maximum': 15.0, 'NormalisedTemperature': 1.0, 'NestednessUpOrDown': 'Up'}]}, 'Qua_t2': {'EnsembleSize': 1000.0, 'SignificanceTable': matlab.double([[0.0,0.0,0.0,1.0,1.0]]), 'measures': [{'MEASURE': 'NODF', 'NANcount': 0.0, 'Measure': 15.0, 'pvalue': 1.0, 'pvalueCorrected': 0.0, 'Mean': 15.0, 'StandardDeviation': 0.0, 'sampleZscore': nan, 'Median': 15.0, 'minimum': 15.0, 'maximum': 15.0, 'NormalisedTemperature': 1.0, 'NestednessUpOrDown': 'Up'}]}, 'Qua_t3': {'EnsembleSize': 1000.0, 'SignificanceTable': matlab.double([[0.0,0.0,0.0,1.0,1.0]]), 'measures': [{'MEASURE': 'NODF', 'NANcount': 0.0, 'Measure': 15.0, 'pvalue': 1.0, 'pvalueCorrected': 0.0, 'Mean': 15.0, 'StandardDeviation': 0.0, 'sampleZscore': nan, 'Median': 15.0, 'minimum': 15.0, 'maximum': 15.0, 'NormalisedTemperature': 1.0, 'NestednessUpOrDown': 'Up'}]}, 'Qua_t4': {'EnsembleSize': 1000.0, 'SignificanceTable': matlab.double([[0.0,0.0,0.0,1.0,1.0]]), 'measures': [{'MEASURE': 'NODF', 'NANcount': 0.0, 'Measure': 15.0, 'pvalue': 1.0, 'pvalueCorrected': 0.0, 'Mean': 15.0, 'StandardDeviation': 0.0, 'sampleZscore': nan, 'Median': 15.0, 'minimum': 15.0, 'maximum': 15.0, 'NormalisedTemperature': 1.0, 'NestednessUpOrDown': 'Up'}]}, 'SignificanceTableSummary': matlab.double([[0.0,0.0,0.0,4.0,4.0]])}\n"
     ]
    }
   ],
   "source": [
    "# positional arguments needed for the function\n",
    "args=[False,False,['NODF'],eng.eval('[]'),eng.eval('[]'),0]\n",
    "\n",
    "# now it works:\n",
    "result=eng.PERFORM_NESTED_TEST(test_matlab_matrix, *args)\n",
    "print(result)"
   ]
  },
  {
   "cell_type": "markdown",
   "metadata": {},
   "source": [
    "Note that the calculation still works even if we change Python's working directory, all that matters is that the MATLAB engine has the folder containing the code in its search path:"
   ]
  },
  {
   "cell_type": "code",
   "execution_count": 12,
   "metadata": {},
   "outputs": [],
   "source": [
    "os.chdir(CURRENT_DIR)\n",
    "\n",
    "# if you see no error, that means it worked\n",
    "result=eng.PERFORM_NESTED_TEST(test_matlab_matrix, *args)\n",
    "eng.quit()"
   ]
  },
  {
   "cell_type": "markdown",
   "metadata": {},
   "source": [
    "This leads to our first ingredient for a module that wraps MATLAB code. We will write a context manager that temporarily switches the cwd to where the MATLAB code is:"
   ]
  },
  {
   "cell_type": "code",
   "execution_count": 13,
   "metadata": {},
   "outputs": [],
   "source": [
    "class TempWD():\n",
    "    \"\"\"context manager to temporarily switch cwd to `dir_path`\"\"\"\n",
    "\n",
    "    def __init__(self, dir_path):\n",
    "        # when called, gets current working dir\n",
    "        self.cwd=os.getcwd()\n",
    "        self.dir_path=dir_path\n",
    "        # changes cwd\n",
    "        os.chdir(self.dir_path)\n",
    "\n",
    "    def __enter__(self):\n",
    "        return None\n",
    "\n",
    "    def __exit__(self, type, value, traceback):\n",
    "        # on exit, switch back to previous wd\n",
    "        os.chdir(self.cwd)"
   ]
  },
  {
   "cell_type": "markdown",
   "metadata": {},
   "source": [
    "now we just need to load the engine under the context manager:"
   ]
  },
  {
   "cell_type": "code",
   "execution_count": 14,
   "metadata": {},
   "outputs": [],
   "source": [
    "with TempWD(FALCON_DIR) as wd_manager:\n",
    "    eng=engine.start_matlab()\n",
    "\n",
    "# now the engine finds the source file\n",
    "# again, no error means it worked correctly.\n",
    "result=eng.PERFORM_NESTED_TEST(test_matlab_matrix, *args)\n",
    "eng.quit()"
   ]
  },
  {
   "cell_type": "markdown",
   "metadata": {},
   "source": [
    "let's write a nice and clean function to start matlab without having to type all that context manager stuff:"
   ]
  },
  {
   "cell_type": "code",
   "execution_count": 15,
   "metadata": {},
   "outputs": [],
   "source": [
    "def start_matlab():\n",
    "    \"\"\"starts matlab. It uses TempWD to temporarily switch cwd to the path where the matlab source files are,\n",
    "    so that the path gets added to matlab PATH at startup and the sources are found by the engine. \"\"\"\n",
    "    # when you start matlab, cwd should be the dir where the matlab files are!\n",
    "    with TempWD(FALCON_DIR) as wd_manager:\n",
    "        eng=matlab.engine.start_matlab()\n",
    "    return eng"
   ]
  },
  {
   "cell_type": "code",
   "execution_count": 16,
   "metadata": {},
   "outputs": [],
   "source": [
    "# let's check if it works:\n",
    "eng=start_matlab()\n",
    "result=eng.PERFORM_NESTED_TEST(test_matlab_matrix, *args)\n",
    "eng.quit()"
   ]
  },
  {
   "cell_type": "markdown",
   "metadata": {},
   "source": [
    "Now we can proceed to write a function that wraps `PERFORM_NESTED_TEST` so that it looks more pythonic. The main difficulty here is that we have to properly parse and convert the arguments to pass to MATLAB. The parsing is explained in more detail in the comments. I chose to leave the argument names unchanged, even if camelcase is not strictly PEP8, so that they match FALCON's orignal documentation."
   ]
  },
  {
   "cell_type": "code",
   "execution_count": 17,
   "metadata": {},
   "outputs": [],
   "source": [
    "allowed_measures=['DISCREPANCY', 'JDMnestedness', 'MANHATTAN_DISTANCE', 'NODF', 'NTC', 'SPECTRAL_RADIUS', 'WNODF']\n",
    "def nested_test(matrix, bintest=1, sortVar=False, functhand=['NODF'], nullmodels=[], EnsembleNumber=[], plotON=0,\n",
    "                eng=None):\n",
    "    \"\"\"Wrapper for FALCON's PERFORM_NESTED_TEST function (the main routine that allows all calculations). See `PERFORM_NESTED_TEST.m` docstrings and code for further info.\n",
    "    Args:\n",
    "        matrix: the matrix to test\n",
    "        bintest: is the matrix binary (1) quantitative (0) or both ((2) the case of spectral radius for example).\n",
    "        sortVar: specifies whether to sortVar the matrix for maximal packaging (1) or not (0). Is applied both to input and null matrices, but only makes a difference to NODF, DISCREPANCY and MANHATTAN DISTANCE scores and tests.\n",
    "        functhand:  specifies function name of measure(s) to perform. It is important that this argument is a list.\n",
    "        nullmodels: pecifies which null tests to run. [] performs all that can be done based on whether the test is binary/quantitative. Binary null tests are positively numbered e.g.(1,2,3), whilst quantitative null tests are negatively numbered e.g. (-1,-2,-3). To run binary null tests 1 and 3 for example you should use the argument [1 3]\n",
    "        EnsembleNumber: To use the adaptive method this should be set as [], else the fixed solver is invoked which performs the set number of nulls in its ensemble e.g. if argument was 50, 50 null models would be performed.\n",
    "        plotON: Ignored. In Matlab, determines whether a plot should be displayed to the user about how the test measurement compares to those found in the null ensemble. 1 indicates the plotON should be made, 0 indicates it should not.\n",
    "        eng: matlab engine to use.\n",
    "    \"\"\"\n",
    "    # matrices need to be fed as lists to the matlab fcn\n",
    "    if not isinstance(matrix, list):\n",
    "        matrix=np.asarray(matrix).tolist()\n",
    "    for measure in functhand:\n",
    "        if measure not in allowed_measures:\n",
    "            raise ValueError('Error in functhand argument: {} is not a supported measure.'.format(measure))\n",
    "    # convert to proper matlab type\n",
    "    if bintest==1:\n",
    "        # booleans if binary matrix\n",
    "        matrix=matlab.logical(matrix)\n",
    "    else:\n",
    "        # doubles for quantitative matrix\n",
    "        matrix=matlab.double(matrix)\n",
    "    # nullmodels lists the null models to compute to calculate test significance.\n",
    "    # PERFORM_NESTED_TEST only accepts a sorted MATLAB vector for this parameter.\n",
    "    if isinstance(nullmodels, list):\n",
    "        if not nullmodels:\n",
    "            # correct way to initialize an empty vector\n",
    "            nullmodels=eng.eval('[]')\n",
    "        else:\n",
    "            # convert to sorted double vector\n",
    "            nullmodels=matlab.double(sorted(list(nullmodels)))\n",
    "    if not EnsembleNumber:\n",
    "        # here too we need to give an empty vector, the function won't accept EnsembleNumber===0\n",
    "        EnsembleNumber=eng.eval('[]')\n",
    "    # this needs to be converted to int\n",
    "    sortVar=int(sortVar)\n",
    "    # plotON is always 0, so we don't have to deal with MATLAB trying to access the graphical frontend\n",
    "    # final note: MATLAB only takes positional arguments!\n",
    "    result=eng.PERFORM_NESTED_TEST(matrix, bintest, sortVar, functhand, nullmodels, EnsembleNumber, 0)\n",
    "    return result"
   ]
  },
  {
   "cell_type": "markdown",
   "metadata": {},
   "source": [
    "Let's test that it all works"
   ]
  },
  {
   "cell_type": "code",
   "execution_count": 18,
   "metadata": {},
   "outputs": [],
   "source": [
    "eng=start_matlab()\n",
    "result=nested_test(test_matlab_matrix, eng=eng)\n",
    "eng.quit()"
   ]
  },
  {
   "cell_type": "markdown",
   "metadata": {},
   "source": [
    "Now one more trick: we want to write a module that masks the MATLAB backend as much as possible. So we'll write a wrapper around the `start_matlab()` function that does \"lazy loading\" of the MATLAB engine when it is called."
   ]
  },
  {
   "cell_type": "code",
   "execution_count": 19,
   "metadata": {},
   "outputs": [],
   "source": [
    "class EngineWrapper():\n",
    "    \"\"\"Wraps a matlab.engine() instance to do lazy loading\"\"\"\n",
    "\n",
    "    def __init__(self):\n",
    "        self.eng=None\n",
    "        # this checks if the engine is running\n",
    "        self.is_started=False\n",
    "\n",
    "    # whenever we try to access any attribute\n",
    "    def __getattr__(self, item):\n",
    "        # exception for the 'is_started' attribute\n",
    "        if item=='is_started':\n",
    "            return self.is_started\n",
    "        # if engine not running:\n",
    "        if self.is_started is False:\n",
    "            # start the engine, put it into self.eng\n",
    "            self.eng=start_matlab()\n",
    "            # make a note that engine is running\n",
    "            self.is_started = True\n",
    "        # and then return the corresponding attribute of self.eng\n",
    "        return getattr(self.eng, item)\n",
    "\n",
    "    # also override `__del__` method by making the wrapper close the engine\n",
    "    def __del__(self):\n",
    "        if self.is_started:\n",
    "            self.quit()"
   ]
  },
  {
   "cell_type": "markdown",
   "metadata": {},
   "source": [
    "Now we can put `_engine` as a global variable in our module containing one \"default engine\" used for calculations. We can then write a decorator that feeds `_engine` to `nested_test()`. This allows to `import` the module very fast, and the engine (which eats up ~30MB of memory and loads in about one second - at least when it's loaded from an SSD by a 7th gen Core i7 on my machine) will be started on the first call to the function, without any need for an explicit call. "
   ]
  },
  {
   "cell_type": "code",
   "execution_count": 20,
   "metadata": {},
   "outputs": [],
   "source": [
    "from functools import wraps\n",
    "\n",
    "# will use as global variable\n",
    "_engine=EngineWrapper()\n",
    "\n",
    "def lazy_load_engine(func):\n",
    "    \"\"\"Decorator that adds lazy loading of the engine to MATLAB wrapper functions.\n",
    "    The wrappers must use the `eng` keyword argument as a matlab.engine object.\"\"\"\n",
    "\n",
    "    @wraps(func) # to preserve signature\n",
    "    def wrapper(*args,**kwargs):\n",
    "        # _engine now points explicitly to the global module variable\n",
    "        global _engine\n",
    "        # override the `eng` argument of the function\n",
    "        kwargs['eng']=_engine\n",
    "        # finally call it\n",
    "        return func(*args, **kwargs)\n",
    "    \n",
    "    return wrapper\n",
    "\n",
    "# decorate function\n",
    "nested_test_lazyload=lazy_load_engine(nested_test)\n",
    "\n",
    "# decorated function automatically loads engine on first call\n",
    "result=nested_test_lazyload(test_matlab_matrix)\n",
    "\n",
    "# you still have to close the engine at the end.\n",
    "# if you shut down Python all its child processes are killed,\n",
    "# including the MATLAB engine, but explicitly closing it is cleaner\n",
    "_engine.quit()"
   ]
  },
  {
   "cell_type": "markdown",
   "metadata": {},
   "source": [
    "all we have to do now is to put everything in the `__init__.py` file in the folder where the code is, and the module will load everything automatically. Check out the example in the [`test.ipynb`](https://github.com/ganileni/py_falcon/blob/master/examples/test.ipynb) notebook.\n",
    "\n",
    "**Note:** what I actually did is to put two files in the [`../falcon`](https://github.com/ganileni/py_falcon/tree/master/falcon) directory. One is called [`wrapper.py`](https://github.com/ganileni/py_falcon/blob/master/falcon/wrapper.py), and contains all the machinery that is independent of the MATLAB module we're using. the [`__init__.py`](https://github.com/ganileni/py_falcon/blob/master/falcon/__init__.py) file contains an import statement at the top:\n",
    "```\n",
    "from wrapper import *\n",
    "```\n",
    "and then only the actual function wrappers that are dependent on FALCON. So if you want to wrap another MATLAB module, just copy [`wrapper.py`](https://github.com/ganileni/py_falcon/blob/master/falcon/wrapper.py) in the folder where the code is, and then write a small wrapper for the MATLAB functions that you need in `__init__.py`."
   ]
  }
 ],
 "metadata": {
  "kernelspec": {
   "display_name": "Python 3",
   "language": "python",
   "name": "python3"
  },
  "language_info": {
   "codemirror_mode": {
    "name": "ipython",
    "version": 3
   },
   "file_extension": ".py",
   "mimetype": "text/x-python",
   "name": "python",
   "nbconvert_exporter": "python",
   "pygments_lexer": "ipython3",
   "version": "3.6.6"
  }
 },
 "nbformat": 4,
 "nbformat_minor": 2
}
